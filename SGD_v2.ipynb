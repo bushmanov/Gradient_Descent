{
 "cells": [
  {
   "cell_type": "markdown",
   "metadata": {},
   "source": [
    "Stochastic Gradient Descent (**SGD**) -- это метод, который подходит как для online обучения, или обучения в режиме реального времени, когда данные поступают постепенно, так и для Big Data. Причина универсальности этого метода состоит в том, что **SGD** не нужен полный объем данных для решения задач классификации или регрессионного анализа: апдейт модели происходит постепенно, по мере того, как появлятся новые данные.  \n",
    "\n",
    "Понять логику, каким образом это происходит можно на примере расчета средней величины потока данных:  \n",
    "\n",
    "1. у нас есть текущее значение среднего μ\n",
    "2. если следующая величина X, которую мы получаем, больше чем μ, мы увеличиваем μ на τ\\*(X-μ), где τ -- это так называемый learning rate\n",
    "3. если следующая величина Х меньше чем μ, то мы уменьшаем нашу оценку μ \n",
    "\n",
    "В случае с **SGD** для решения задач классификации и линейной регрессии, данный алгоритм применяется для поиска глобального минимума `loss function` для соответствующего вида анализа:  \n",
    "\n",
    "- `log-loss` для классификации методом логистической регрессии (logistic regression)\n",
    "- `RSS` для линейной регрессии.  \n",
    "\n",
    "Ниже приведен пример реализации **SGD** для линейной регрессии."
   ]
  },
  {
   "cell_type": "code",
   "execution_count": 1,
   "metadata": {
    "collapsed": true
   },
   "outputs": [],
   "source": [
    "import numpy as np\n",
    "import math\n",
    "import random\n",
    "import matplotlib.pyplot as plt\n",
    "%matplotlib inline"
   ]
  },
  {
   "cell_type": "markdown",
   "metadata": {},
   "source": [
    "Определим функцию для генерации данных:  \n",
    "\n",
    "- `num = 100`: 100 точек\n",
    "- `x`: матрица, в которой первый столбец состоит из \"1\"\n",
    "- `var = 10` : постоянный \"шум\" (ошибки в измерении `y` или неконтролируемые факторы)"
   ]
  },
  {
   "cell_type": "code",
   "execution_count": 2,
   "metadata": {
    "collapsed": true
   },
   "outputs": [],
   "source": [
    "def gen_data(a,b, num = 100, var = 10):\n",
    "    x = np.array([[1,i] for i in range(num)])\n",
    "    y = np.dot(x, [a,b]) + np.array([random.normalvariate(0, var) for _ in range(num)])\n",
    "    return x,y"
   ]
  },
  {
   "cell_type": "markdown",
   "metadata": {},
   "source": [
    "Добавим в класс `plt` дополнительный метод `plt.abline(a,b)`, который будет строить прямую линию `y = a + b*x`"
   ]
  },
  {
   "cell_type": "code",
   "execution_count": 3,
   "metadata": {
    "collapsed": false
   },
   "outputs": [],
   "source": [
    "def plot_abline(a,b, xmin = -10, xmax = 110, label = 'Least Squares Line'):\n",
    "    x1 = np.arange(xmin, xmax,1)\n",
    "    y1 = a + b*x1\n",
    "    plt.plot(x1,y1, '--r', linewidth = 3, label = label)\n",
    "    plt.legend(loc = 'upper left')\n",
    "    \n",
    "setattr(plt,'abline', plot_abline)"
   ]
  },
  {
   "cell_type": "markdown",
   "metadata": {},
   "source": [
    "Сгенерируем данные и отобразим их на графике:"
   ]
  },
  {
   "cell_type": "code",
   "execution_count": 4,
   "metadata": {
    "collapsed": false
   },
   "outputs": [
    {
     "data": {
      "image/png": "[encoded data removed]",
      "text/plain": [
       "<matplotlib.figure.Figure at 0x7f754dacd390>"
      ]
     },
     "metadata": {},
     "output_type": "display_data"
    }
   ],
   "source": [
    "a = 10\n",
    "b = 2\n",
    "x, y = gen_data(a,b)\n",
    "\n",
    "plt.scatter(x[:,1],y)\n",
    "plt.abline(a,b)\n",
    "plt.xlabel('x')\n",
    "plt.ylabel('y')\n",
    "plt.title('Data with noise')\n",
    "plt.grid();"
   ]
  },
  {
   "cell_type": "markdown",
   "metadata": {},
   "source": [
    "Определим функцию, которая рассчитает оптимальные параметры вектора **β** методом Stochastic Gradient Descent. Для каждой полной итерации по всем строкам **X** (epoch), рассчитаем:  \n",
    "\n",
    "1. `error`: ошибку при данном значении **β**\n",
    "2. `gradient`: градиент `loss-function` для линейной регрессии\n",
    "3. `beta` : апдейт коэффициентов с целью минимизировать `loss-function`"
   ]
  },
  {
   "cell_type": "code",
   "execution_count": 8,
   "metadata": {
    "collapsed": false
   },
   "outputs": [],
   "source": [
    "def SGD(x, y, beta, learnig_rate, num_iter):\n",
    "    N = len(y)\n",
    "    for i in range(num_iter):\n",
    "        error = y - np.dot(x, beta)\n",
    "        cost = np.dot(error.transpose(), error) / N\n",
    "        if i % 10000 == 0:\n",
    "            print('Iteration {} | Cost is {}'.format(i, cost))\n",
    "        gradient = - 2 * np.dot(x.transpose(), error)\n",
    "        beta -= learning_rate * gradient\n",
    "    return beta"
   ]
  },
  {
   "cell_type": "markdown",
   "metadata": {},
   "source": [
    "Рассчитаем коэффициенты при помощи функции `SGD()`:"
   ]
  },
  {
   "cell_type": "code",
   "execution_count": 9,
   "metadata": {
    "collapsed": false,
    "scrolled": true
   },
   "outputs": [
    {
     "name": "stdout",
     "output_type": "stream",
     "text": [
      "Iteration 0 | Cost is 4270.379223162804\n",
      "Iteration 10000 | Cost is 126.73477204378867\n",
      "Iteration 20000 | Cost is 121.4437403136901\n",
      "Iteration 30000 | Cost is 119.52600916495318\n",
      "Iteration 40000 | Cost is 118.83092870684237\n"
     ]
    },
    {
     "data": {
      "text/plain": [
       "array([ 9.76447381,  1.98925127])"
      ]
     },
     "execution_count": 9,
     "metadata": {},
     "output_type": "execute_result"
    }
   ],
   "source": [
    "learning_rate = 1e-6\n",
    "num_iter = 50000\n",
    "beta = np.ones(2)\n",
    "\n",
    "beta_hat = SGD(x,y,beta, learning_rate, num_iter)\n",
    "\n",
    "beta_hat"
   ]
  },
  {
   "cell_type": "markdown",
   "metadata": {},
   "source": [
    "Графически, линия, полученная при помощи Stochastic Gradient Descent, идеально вписывается в сгенерированные данные."
   ]
  },
  {
   "cell_type": "code",
   "execution_count": 7,
   "metadata": {
    "collapsed": false
   },
   "outputs": [
    {
     "data": {
      "image/png": "[encoded data removed]",
      "text/plain": [
       "<matplotlib.figure.Figure at 0x7f754da78128>"
      ]
     },
     "metadata": {},
     "output_type": "display_data"
    }
   ],
   "source": [
    "plt.scatter(x[:,1],y)\n",
    "plt.abline(beta_hat[0], beta_hat[1], label = 'SGD line')\n",
    "plt.xlabel('x')\n",
    "plt.ylabel('y')\n",
    "plt.title('Data with noise')\n",
    "plt.grid();"
   ]
  }
 ],
 "metadata": {
  "kernelspec": {
   "display_name": "Python 3",
   "language": "python",
   "name": "python3"
  },
  "language_info": {
   "codemirror_mode": {
    "name": "ipython",
    "version": 3
   },
   "file_extension": ".py",
   "mimetype": "text/x-python",
   "name": "python",
   "nbconvert_exporter": "python",
   "pygments_lexer": "ipython3",
   "version": "3.4.3"
  }
 },
 "nbformat": 4,
 "nbformat_minor": 0
}
